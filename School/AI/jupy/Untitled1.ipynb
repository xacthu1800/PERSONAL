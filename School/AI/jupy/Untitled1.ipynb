{
 "cells": [
  {
   "cell_type": "code",
   "execution_count": 11,
   "id": "86f19221",
   "metadata": {},
   "outputs": [
    {
     "name": "stdout",
     "output_type": "stream",
     "text": [
      "       country continent  year  lifeExp       pop   gdpPercap\n",
      "0  Afghanistan      Asia  1952   28.801   8425333  779.445314\n",
      "1  Afghanistan      Asia  1957   30.332   9240934  820.853030\n",
      "2  Afghanistan      Asia  1962   31.997  10267083  853.100710\n",
      "3  Afghanistan      Asia  1967   34.020  11537966  836.197138\n",
      "4  Afghanistan      Asia  1972   36.088  13079460  739.981106\n"
     ]
    }
   ],
   "source": [
    "#show the first 5 line of tsv file\n",
    "\n",
    "import pandas as pd\n",
    "df=pd.read_csv('../04_gap-merged.tsv',sep='\\t')\n",
    "print(df.head(5))"
   ]
  },
  {
   "cell_type": "code",
   "execution_count": 12,
   "id": "b1d25b63",
   "metadata": {
    "scrolled": true
   },
   "outputs": [
    {
     "name": "stdout",
     "output_type": "stream",
     "text": [
      "3312\n",
      "6\n"
     ]
    }
   ],
   "source": [
    "#find the number of row and column of this file\n",
    "\n",
    "import pandas as pd\n",
    "df=pd.read_csv('../04_gap-merged.tsv',sep='\\t')\n",
    "rows = len(df.axes[0])\n",
    "cols = len(df.axes[1])\n",
    "\n",
    "print(rows)\n",
    "print(cols)"
   ]
  },
  {
   "cell_type": "code",
   "execution_count": 13,
   "id": "251af7c2",
   "metadata": {},
   "outputs": [
    {
     "name": "stdout",
     "output_type": "stream",
     "text": [
      "country\n",
      "continent\n",
      "year\n",
      "lifeExp\n",
      "pop\n",
      "gdpPercap\n"
     ]
    }
   ],
   "source": [
    "#print the name of the columns\n",
    "\n",
    "import pandas as pd\n",
    "df=pd.read_csv('../04_gap-merged.tsv',sep='\\t')\n",
    "\n",
    "for x in df.columns:\n",
    "    print(x)"
   ]
  },
  {
   "cell_type": "code",
   "execution_count": 27,
   "id": "ec200de1",
   "metadata": {},
   "outputs": [
    {
     "name": "stdout",
     "output_type": "stream",
     "text": [
      "country       object\n",
      "continent     object\n",
      "year           int64\n",
      "lifeExp      float64\n",
      "pop            int64\n",
      "gdpPercap    float64\n",
      "dtype: object\n"
     ]
    }
   ],
   "source": [
    "#what is the type of the column name\n",
    "\n",
    "import pandas as pd\n",
    "df=pd.read_csv('../04_gap-merged.tsv',sep='\\t')\n",
    "\n",
    "print(df.dtypes)"
   ]
  },
  {
   "cell_type": "code",
   "execution_count": 15,
   "id": "2f2d65f5",
   "metadata": {},
   "outputs": [
    {
     "name": "stdout",
     "output_type": "stream",
     "text": [
      "0    Afghanistan\n",
      "1    Afghanistan\n",
      "2    Afghanistan\n",
      "3    Afghanistan\n",
      "4    Afghanistan\n",
      "Name: country, dtype: object\n"
     ]
    }
   ],
   "source": [
    "#get the country column and save it to its own variable. show the first 5 observations.\n",
    "\n",
    "import pandas as pd\n",
    "df=pd.read_csv('../04_gap-merged.tsv',sep='\\t')\n",
    "\n",
    "y = df.loc[:, 'country']\n",
    "print(y.head(5))"
   ]
  },
  {
   "cell_type": "code",
   "execution_count": 17,
   "id": "3ad49b6f",
   "metadata": {},
   "outputs": [
    {
     "name": "stdout",
     "output_type": "stream",
     "text": [
      "3307    Zimbabwe\n",
      "3308    Zimbabwe\n",
      "3309    Zimbabwe\n",
      "3310    Zimbabwe\n",
      "3311    Zimbabwe\n",
      "Name: country, dtype: object\n"
     ]
    }
   ],
   "source": [
    "#show the last 5 observations of this column\n",
    "\n",
    "import pandas as pd\n",
    "df=pd.read_csv('../04_gap-merged.tsv',sep='\\t')\n",
    "\n",
    "y = df.loc[:, 'country']\n",
    "print(y.tail(5))"
   ]
  },
  {
   "cell_type": "code",
   "execution_count": 19,
   "id": "39de1bcb",
   "metadata": {},
   "outputs": [
    {
     "name": "stdout",
     "output_type": "stream",
     "text": [
      "       country continent  year\n",
      "3307  Zimbabwe    Africa  1987\n",
      "3308  Zimbabwe    Africa  1992\n",
      "3309  Zimbabwe    Africa  1997\n",
      "3310  Zimbabwe    Africa  2002\n",
      "3311  Zimbabwe    Africa  2007\n",
      "\n",
      "       country continent  year\n",
      "0  Afghanistan      Asia  1952\n",
      "1  Afghanistan      Asia  1957\n",
      "2  Afghanistan      Asia  1962\n",
      "3  Afghanistan      Asia  1967\n",
      "4  Afghanistan      Asia  1972\n"
     ]
    }
   ],
   "source": [
    "#look at country, cotinent and year. show the first 5 observvation of these columns, and the last 5 observations \n",
    "\n",
    "import pandas as pd\n",
    "df=pd.read_csv('../04_gap-merged.tsv',sep='\\t')\n",
    "\n",
    "y = df[['country', 'continent','year']]\n",
    "\n",
    "print(y.tail(5))\n",
    "print()\n",
    "print(y.head(5))"
   ]
  },
  {
   "cell_type": "code",
   "execution_count": 30,
   "id": "8fd7fd8d",
   "metadata": {},
   "outputs": [
    {
     "name": "stdout",
     "output_type": "stream",
     "text": [
      "0    Afghanistan\n",
      "1    Afghanistan\n",
      "2    Afghanistan\n",
      "3    Afghanistan\n",
      "4    Afghanistan\n",
      "Name: country, dtype: object\n"
     ]
    }
   ],
   "source": [
    "#8 try to get the first column by using a integer index. and get the first and last column by passing the integer index. print\n",
    "# the first 5 observation\n",
    "\n",
    "import pandas as pd\n",
    "df=pd.read_csv('../04_gap-merged.tsv',sep='\\t')\n",
    "\n",
    "y = df.iloc[:, 0]\n",
    "print(y.head(5))"
   ]
  },
  {
   "cell_type": "code",
   "execution_count": 35,
   "id": "28c1f7be",
   "metadata": {},
   "outputs": [
    {
     "name": "stdout",
     "output_type": "stream",
     "text": [
      "0    Afghanistan\n",
      "1    Afghanistan\n",
      "2    Afghanistan\n",
      "3    Afghanistan\n",
      "4    Afghanistan\n",
      "Name: country, dtype: object\n"
     ]
    }
   ],
   "source": [
    "#9 how to get the first row of tsv file? how to get the 100th row\n",
    "\n",
    "import pandas as pd\n",
    "df=pd.read_csv('../04_gap-merged.tsv',sep='\\t')\n",
    "\n",
    "y = df.iloc[0:99, 0]\n",
    "print(y.head(5))"
   ]
  },
  {
   "cell_type": "code",
   "execution_count": 36,
   "id": "bfdb5ca5",
   "metadata": {},
   "outputs": [
    {
     "name": "stdout",
     "output_type": "stream",
     "text": [
      "0    779.445314\n",
      "1    820.853030\n",
      "2    853.100710\n",
      "3    836.197138\n",
      "4    739.981106\n",
      "Name: gdpPercap, dtype: float64\n"
     ]
    }
   ],
   "source": [
    "#10 how to get the last row? try with index -1? correct ?\n",
    "\n",
    "import pandas as pd\n",
    "df=pd.read_csv('../04_gap-merged.tsv',sep='\\t')\n",
    "\n",
    "y = df.iloc[:, -1]\n",
    "print(y.head(5))"
   ]
  },
  {
   "cell_type": "code",
   "execution_count": 71,
   "id": "a3863d81",
   "metadata": {},
   "outputs": [
    {
     "name": "stdout",
     "output_type": "stream",
     "text": [
      "country      Afghanistan\n",
      "continent           Asia\n",
      "year                1952\n",
      "lifeExp           28.801\n",
      "pop              8425333\n",
      "gdpPercap     779.445314\n",
      "Name: 0, dtype: object\n"
     ]
    }
   ],
   "source": [
    "#11 how to select the first, 100th, 1000th rows by three method\n",
    "\n",
    "import pandas as pd\n",
    "df=pd.read_csv('../04_gap-merged.tsv',sep='\\t')\n",
    "\n",
    "method_1 = df.iloc[0, :]\n",
    "method_1_1 = df.iloc[100, :]\n",
    "method_1_2 = df.iloc[1000, :]\n",
    "\n",
    "#print(method_1)\n",
    "\n",
    "method_2 = df.loc[999]\n",
    "\n",
    "#print(method_2)\n",
    "\n",
    "\n",
    "#method_3 = \n",
    "\n"
   ]
  },
  {
   "cell_type": "code",
   "execution_count": 81,
   "id": "63ebf66a",
   "metadata": {},
   "outputs": [
    {
     "name": "stdout",
     "output_type": "stream",
     "text": [
      "        country continent  year  lifeExp       pop    gdpPercap\n",
      "0   Afghanistan      Asia  1952   28.801   8425333   779.445314\n",
      "1   Afghanistan      Asia  1957   30.332   9240934   820.853030\n",
      "2   Afghanistan      Asia  1962   31.997  10267083   853.100710\n",
      "3   Afghanistan      Asia  1967   34.020  11537966   836.197138\n",
      "4   Afghanistan      Asia  1972   36.088  13079460   739.981106\n",
      "5   Afghanistan      Asia  1977   38.438  14880372   786.113360\n",
      "6   Afghanistan      Asia  1982   39.854  12881816   978.011439\n",
      "7   Afghanistan      Asia  1987   40.822  13867957   852.395945\n",
      "8   Afghanistan      Asia  1992   41.674  16317921   649.341395\n",
      "9   Afghanistan      Asia  1997   41.763  22227415   635.341351\n",
      "10  Afghanistan      Asia  2002   42.129  25268405   726.734055\n",
      "11  Afghanistan      Asia  2007   43.828  31889923   974.580338\n",
      "12      Albania    Europe  1952   55.230   1282697  1601.056136\n",
      "13      Albania    Europe  1957   59.280   1476505  1942.284244\n",
      "14      Albania    Europe  1962   64.820   1728137  2312.888958\n",
      "15      Albania    Europe  1967   66.220   1984060  2760.196931\n",
      "16      Albania    Europe  1972   67.690   2263554  3313.422188\n",
      "17      Albania    Europe  1977   68.930   2509048  3533.003910\n",
      "18      Albania    Europe  1982   70.420   2780097  3630.880722\n",
      "19      Albania    Europe  1987   72.000   3075321  3738.932735\n",
      "20      Albania    Europe  1992   71.581   3326498  2497.437901\n",
      "21      Albania    Europe  1997   72.950   3428038  3193.054604\n",
      "22      Albania    Europe  2002   75.651   3508512  4604.211737\n",
      "23      Albania    Europe  2007   76.423   3600523  5937.029526\n",
      "24      Algeria    Africa  1952   43.077   9279525  2449.008185\n",
      "25      Algeria    Africa  1957   45.685  10270856  3013.976023\n",
      "26      Algeria    Africa  1962   48.303  11000948  2550.816880\n",
      "27      Algeria    Africa  1967   51.407  12760499  3246.991771\n",
      "28      Algeria    Africa  1972   54.518  14760787  4182.663766\n",
      "29      Algeria    Africa  1977   58.014  17152804  4910.416756\n",
      "30      Algeria    Africa  1982   61.368  20033753  5745.160213\n",
      "31      Algeria    Africa  1987   65.799  23254956  5681.358539\n",
      "32      Algeria    Africa  1992   67.744  26298373  5023.216647\n",
      "33      Algeria    Africa  1997   69.152  29072015  4797.295051\n",
      "34      Algeria    Africa  2002   70.994  31287142  5288.040382\n",
      "35      Algeria    Africa  2007   72.301  33333216  6223.367465\n",
      "36       Angola    Africa  1952   30.015   4232095  3520.610273\n",
      "37       Angola    Africa  1957   31.999   4561361  3827.940465\n",
      "38       Angola    Africa  1962   34.000   4826015  4269.276742\n",
      "39       Angola    Africa  1967   35.985   5247469  5522.776375\n",
      "\n",
      "        country continent  year  lifeExp       pop    gdpPercap\n",
      "0   Afghanistan      Asia  1952   28.801   8425333   779.445314\n",
      "1   Afghanistan      Asia  1957   30.332   9240934   820.853030\n",
      "2   Afghanistan      Asia  1962   31.997  10267083   853.100710\n",
      "3   Afghanistan      Asia  1967   34.020  11537966   836.197138\n",
      "4   Afghanistan      Asia  1972   36.088  13079460   739.981106\n",
      "5   Afghanistan      Asia  1977   38.438  14880372   786.113360\n",
      "6   Afghanistan      Asia  1982   39.854  12881816   978.011439\n",
      "7   Afghanistan      Asia  1987   40.822  13867957   852.395945\n",
      "8   Afghanistan      Asia  1992   41.674  16317921   649.341395\n",
      "9   Afghanistan      Asia  1997   41.763  22227415   635.341351\n",
      "10  Afghanistan      Asia  2002   42.129  25268405   726.734055\n",
      "11  Afghanistan      Asia  2007   43.828  31889923   974.580338\n",
      "12      Albania    Europe  1952   55.230   1282697  1601.056136\n",
      "13      Albania    Europe  1957   59.280   1476505  1942.284244\n",
      "14      Albania    Europe  1962   64.820   1728137  2312.888958\n",
      "15      Albania    Europe  1967   66.220   1984060  2760.196931\n",
      "16      Albania    Europe  1972   67.690   2263554  3313.422188\n",
      "17      Albania    Europe  1977   68.930   2509048  3533.003910\n",
      "18      Albania    Europe  1982   70.420   2780097  3630.880722\n",
      "19      Albania    Europe  1987   72.000   3075321  3738.932735\n",
      "20      Albania    Europe  1992   71.581   3326498  2497.437901\n",
      "21      Albania    Europe  1997   72.950   3428038  3193.054604\n",
      "22      Albania    Europe  2002   75.651   3508512  4604.211737\n",
      "23      Albania    Europe  2007   76.423   3600523  5937.029526\n",
      "24      Algeria    Africa  1952   43.077   9279525  2449.008185\n",
      "25      Algeria    Africa  1957   45.685  10270856  3013.976023\n",
      "26      Algeria    Africa  1962   48.303  11000948  2550.816880\n",
      "27      Algeria    Africa  1967   51.407  12760499  3246.991771\n",
      "28      Algeria    Africa  1972   54.518  14760787  4182.663766\n",
      "29      Algeria    Africa  1977   58.014  17152804  4910.416756\n",
      "30      Algeria    Africa  1982   61.368  20033753  5745.160213\n",
      "31      Algeria    Africa  1987   65.799  23254956  5681.358539\n",
      "32      Algeria    Africa  1992   67.744  26298373  5023.216647\n",
      "33      Algeria    Africa  1997   69.152  29072015  4797.295051\n",
      "34      Algeria    Africa  2002   70.994  31287142  5288.040382\n",
      "35      Algeria    Africa  2007   72.301  33333216  6223.367465\n",
      "36       Angola    Africa  1952   30.015   4232095  3520.610273\n",
      "37       Angola    Africa  1957   31.999   4561361  3827.940465\n",
      "38       Angola    Africa  1962   34.000   4826015  4269.276742\n",
      "39       Angola    Africa  1967   35.985   5247469  5522.776375\n"
     ]
    }
   ],
   "source": [
    "#12 get 43rd country in our data using .loc .iloc .ix\n",
    "import pandas as pd\n",
    "df=pd.read_csv('../04_gap-merged.tsv',sep='\\t')\n",
    "\n",
    "iloc = df.iloc[0:43, :]\n",
    "\n",
    "loc = df.loc[0:43, :]\n",
    "\n",
    "\n",
    "print(iloc.head(4))\n",
    "print()\n",
    "print(loc.head(40))"
   ]
  },
  {
   "cell_type": "code",
   "execution_count": null,
   "id": "e2a8c236",
   "metadata": {},
   "outputs": [],
   "source": []
  }
 ],
 "metadata": {
  "kernelspec": {
   "display_name": "Python 3 (ipykernel)",
   "language": "python",
   "name": "python3"
  },
  "language_info": {
   "codemirror_mode": {
    "name": "ipython",
    "version": 3
   },
   "file_extension": ".py",
   "mimetype": "text/x-python",
   "name": "python",
   "nbconvert_exporter": "python",
   "pygments_lexer": "ipython3",
   "version": "3.11.5"
  }
 },
 "nbformat": 4,
 "nbformat_minor": 5
}
