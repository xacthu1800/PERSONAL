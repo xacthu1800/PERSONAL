{
 "cells": [
  {
   "cell_type": "code",
   "execution_count": 1,
   "id": "3468a3c7",
   "metadata": {},
   "outputs": [
    {
     "data": {
      "text/plain": [
       "3"
      ]
     },
     "execution_count": 1,
     "metadata": {},
     "output_type": "execute_result"
    }
   ],
   "source": [
    "#cau 1\n",
    "def sum (a,b):\n",
    "    return a + b\n",
    "\n",
    "sum(1,2)"
   ]
  },
  {
   "cell_type": "code",
   "execution_count": 13,
   "id": "edbc226c",
   "metadata": {},
   "outputs": [
    {
     "name": "stdout",
     "output_type": "stream",
     "text": [
      "The Rank of a Matrix:  2\n"
     ]
    }
   ],
   "source": [
    "#cau 2\n",
    "import numpy as np\n",
    "arr = np.array([[1,2,3],[4,5,6],[7,8,9]])\n",
    "vector = np.array([[1,2,3]])\n",
    "\n",
    "print(\"The Rank of a Matrix: \", np.linalg.matrix_rank(arr))"
   ]
  },
  {
   "cell_type": "code",
   "execution_count": 15,
   "id": "12b76c87",
   "metadata": {},
   "outputs": [
    {
     "name": "stdout",
     "output_type": "stream",
     "text": [
      "[[1 2 3]\n",
      " [4 5 6]\n",
      " [7 8 9]]\n",
      "[[ 4  5  6]\n",
      " [ 7  8  9]\n",
      " [10 11 12]]\n"
     ]
    }
   ],
   "source": [
    "#cau 3\n",
    "import numpy as np\n",
    "\n",
    "arr = np.array([[1,2,3],[4,5,6],[7,8,9]])\n",
    "arr2 = arr + 3\n",
    "print(arr)\n",
    "print(arr2)"
   ]
  },
  {
   "cell_type": "code",
   "execution_count": 16,
   "id": "ed0f6b6b",
   "metadata": {},
   "outputs": [
    {
     "name": "stdout",
     "output_type": "stream",
     "text": [
      "[[1 2 3]\n",
      " [4 5 6]\n",
      " [7 8 9]]\n",
      "[[1 4 7]\n",
      " [2 5 8]\n",
      " [3 6 9]]\n"
     ]
    }
   ],
   "source": [
    "#cau 4\n",
    "import numpy as np\n",
    "\n",
    "arr = np.array([[1,2,3],[4,5,6],[7,8,9]])\n",
    "arr2 = np.transpose(arr)\n",
    "print(arr)\n",
    "print(arr2)"
   ]
  },
  {
   "cell_type": "code",
   "execution_count": 17,
   "id": "06fde3d8",
   "metadata": {},
   "outputs": [
    {
     "name": "stdout",
     "output_type": "stream",
     "text": [
      "Vector x: [[1 2]]\n",
      "Norm of x: 2.23606797749979\n",
      "Normalized x: [[0.4472136  0.89442719]]\n"
     ]
    }
   ],
   "source": [
    "#cau 5\n",
    "import numpy as np\n",
    "arr = np.array([[1,2]])\n",
    "\n",
    "norm_x = np.linalg.norm(arr)\n",
    "normalize = arr/norm_x\n",
    "print(\"Vector x:\", arr)\n",
    "print(\"Norm of x:\", norm_x)\n",
    "print(\"Normalized x:\", normalize)"
   ]
  },
  {
   "cell_type": "code",
   "execution_count": 21,
   "id": "8ef3a96f",
   "metadata": {},
   "outputs": [
    {
     "name": "stdout",
     "output_type": "stream",
     "text": [
      "[[ 2 13]]\n",
      "[[18 17]]\n"
     ]
    }
   ],
   "source": [
    "#cau 6\n",
    "import numpy as np\n",
    "a = np.array([[10,15]])\n",
    "b = np.array([[8,2]])\n",
    "c = np.array([[1,2,3]])\n",
    "\n",
    "print(a-b)\n",
    "print(a+b)\n"
   ]
  },
  {
   "cell_type": "code",
   "execution_count": 30,
   "id": "05afd518",
   "metadata": {},
   "outputs": [
    {
     "name": "stdout",
     "output_type": "stream",
     "text": [
      "Ma trận 1:\n",
      "[[1 2 3]\n",
      " [4 5 6]\n",
      " [7 8 9]]\n",
      "\n",
      "Ma trận 2:\n",
      "[[9 8 7]\n",
      " [6 5 4]\n",
      " [3 2 1]]\n",
      "\n",
      "Kết quả của phép nhân ma trận:\n",
      "[[ 30  24  18]\n",
      " [ 84  69  54]\n",
      " [138 114  90]]\n"
     ]
    }
   ],
   "source": [
    "#cau 7\n",
    "import numpy as np\n",
    "\n",
    "# Định nghĩa hai ma trận\n",
    "matrix1 = np.array([[1, 2, 3],\n",
    "                    [4, 5, 6],\n",
    "                    [7, 8, 9]])\n",
    "\n",
    "matrix2 = np.array([[9, 8, 7],\n",
    "                    [6, 5, 4],\n",
    "                    [3, 2, 1]])\n",
    "\n",
    "# Thực hiện phép nhân ma trận\n",
    "result_matrix = np.dot(matrix1, matrix2)\n",
    "\n",
    "# Hiển thị kết quả\n",
    "print(\"Ma trận 1:\")\n",
    "print(matrix1)\n",
    "print(\"\\nMa trận 2:\")\n",
    "print(matrix2)\n",
    "print(\"\\nKết quả của phép nhân ma trận:\")\n",
    "print(result_matrix)\n",
    "\n"
   ]
  },
  {
   "cell_type": "code",
   "execution_count": 29,
   "id": "e352133c",
   "metadata": {},
   "outputs": [
    {
     "name": "stdout",
     "output_type": "stream",
     "text": [
      "The Rank of a Matrix:  2\n",
      "the value of 7 in A:  7\n",
      "the second column in A:  [4, 6]\n"
     ]
    }
   ],
   "source": [
    "#cau 8\n",
    "import numpy as np\n",
    "A = np.array([[2,4,9],[3,6,7]])\n",
    "print(\"The Rank of a Matrix: \", np.linalg.matrix_rank(A))\n",
    "print(\"the value of 7 in A: \", A[1,2])\n",
    "print(\"the second column in A: \", str([row[1] for row in A]))"
   ]
  },
  {
   "cell_type": "code",
   "execution_count": 41,
   "id": "103a3e56",
   "metadata": {},
   "outputs": [
    {
     "name": "stdout",
     "output_type": "stream",
     "text": [
      "[[  8   7  -5]\n",
      " [  2   9   3]\n",
      " [-10   5   3]]\n"
     ]
    }
   ],
   "source": [
    "#cau 9\n",
    "import numpy as np\n",
    "import random\n",
    "\n",
    "x = np.random.randint(-10, 10, size=(3, 3))\n",
    "print(x)"
   ]
  },
  {
   "cell_type": "code",
   "execution_count": 43,
   "id": "70441102",
   "metadata": {},
   "outputs": [
    {
     "name": "stdout",
     "output_type": "stream",
     "text": [
      "[[1. 0. 0. 0.]\n",
      " [0. 1. 0. 0.]\n",
      " [0. 0. 1. 0.]\n",
      " [0. 0. 0. 1.]]\n"
     ]
    }
   ],
   "source": [
    "#cau 10\n",
    "import numpy as np\n",
    "\n",
    "x = np.identity(4)\n",
    "print(x)\n"
   ]
  },
  {
   "cell_type": "code",
   "execution_count": 54,
   "id": "cf94bab8",
   "metadata": {},
   "outputs": [
    {
     "name": "stdout",
     "output_type": "stream",
     "text": [
      "[[8 5 1]\n",
      " [4 6 9]\n",
      " [6 3 8]]\n",
      "22\n",
      "\n",
      "22\n"
     ]
    }
   ],
   "source": [
    "#cau 11\n",
    "import numpy as np\n",
    "import random\n",
    "\n",
    "x = np.random.randint(1, 10, size=(3, 3))\n",
    "print(x)\n",
    "\n",
    "#use command\n",
    "trace  = np.trace(x)\n",
    "print(trace)\n",
    "print()\n",
    "\n",
    "#use for loop\n",
    "result = 0\n",
    "for i in range(len(x)):\n",
    "    result += x[i][i]\n",
    "print(result)\n"
   ]
  },
  {
   "cell_type": "code",
   "execution_count": null,
   "id": "b5bf1843",
   "metadata": {},
   "outputs": [],
   "source": []
  }
 ],
 "metadata": {
  "kernelspec": {
   "display_name": "Python 3 (ipykernel)",
   "language": "python",
   "name": "python3"
  },
  "language_info": {
   "codemirror_mode": {
    "name": "ipython",
    "version": 3
   },
   "file_extension": ".py",
   "mimetype": "text/x-python",
   "name": "python",
   "nbconvert_exporter": "python",
   "pygments_lexer": "ipython3",
   "version": "3.11.5"
  }
 },
 "nbformat": 4,
 "nbformat_minor": 5
}
