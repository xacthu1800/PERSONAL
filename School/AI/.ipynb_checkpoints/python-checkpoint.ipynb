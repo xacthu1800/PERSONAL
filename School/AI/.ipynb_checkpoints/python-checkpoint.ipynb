{
 "cells": [
  {
   "cell_type": "code",
   "execution_count": null,
   "id": "8ab531af",
   "metadata": {},
   "outputs": [],
   "source": []
  },
  {
   "cell_type": "code",
   "execution_count": null,
   "id": "2a1411bd",
   "metadata": {},
   "outputs": [],
   "source": []
  },
  {
   "cell_type": "code",
   "execution_count": null,
   "id": "9fb7dc9b",
   "metadata": {},
   "outputs": [],
   "source": []
  },
  {
   "cell_type": "code",
   "execution_count": null,
   "id": "9ec94b78",
   "metadata": {},
   "outputs": [],
   "source": []
  },
  {
   "cell_type": "code",
   "execution_count": 1,
   "id": "30f75ef1-ede0-42a3-88cd-f3429f5e1ab1",
   "metadata": {},
   "outputs": [
    {
     "name": "stdout",
     "output_type": "stream",
     "text": [
      "Welcome to the Wumpus World!\n",
      "Percept:  {'stench': False, 'glitter': False, 'breeze': False}\n"
     ]
    }
   ],
   "source": [
    "import random\n",
    "\n",
    "class WumpusWorld:\n",
    "    def __init__(self, size):\n",
    "        self.size = size\n",
    "        self.grid = [[None for _ in range(size)] for _ in range(size)]\n",
    "        self.agent_location = (0, 0)\n",
    "        self.wumpus_location = (random.randint(0, size-1), random.randint(0, size-1))\n",
    "        self.gold_location = (random.randint(0, size-1), random.randint(0, size-1))\n",
    "        self.pit_locations = [(random.randint(0, size-1), random.randint(0, size-1)) for _ in range(size)]\n",
    "\n",
    "    def is_valid_location(self, location):\n",
    "        x, y = location\n",
    "        return 0 <= x < self.size and 0 <= y < self.size\n",
    "\n",
    "    def is_wumpus_at(self, location):\n",
    "        return location == self.wumpus_location\n",
    "\n",
    "    def is_gold_at(self, location):\n",
    "        return location == self.gold_location\n",
    "\n",
    "    def is_pit_at(self, location):\n",
    "        return location in self.pit_locations\n",
    "\n",
    "    def is_agent_at(self, location):\n",
    "        return location == self.agent_location\n",
    "\n",
    "    def move_agent(self, direction):\n",
    "        x, y = self.agent_location\n",
    "        if direction == 'left' and self.is_valid_location((x - 1, y)):\n",
    "            self.agent_location = (x - 1, y)\n",
    "        elif direction == 'right' and self.is_valid_location((x + 1, y)):\n",
    "            self.agent_location = (x + 1, y)\n",
    "        elif direction == 'up' and self.is_valid_location((x, y - 1)):\n",
    "            self.agent_location = (x, y - 1)\n",
    "        elif direction == 'down' and self.is_valid_location((x, y + 1)):\n",
    "            self.agent_location = (x, y + 1)\n",
    "\n",
    "    def percept(self):\n",
    "        x, y = self.agent_location\n",
    "        adjacent_locations = [(x, y - 1), (x, y + 1), (x - 1, y), (x + 1, y)]\n",
    "        stench = False\n",
    "        glitter = False\n",
    "        breeze = False\n",
    "\n",
    "        for loc in adjacent_locations:\n",
    "            if self.is_valid_location(loc):\n",
    "                if self.is_wumpus_at(loc):\n",
    "                    stench = True\n",
    "                if self.is_gold_at(loc):\n",
    "                    glitter = True\n",
    "                if self.is_pit_at(loc):\n",
    "                    breeze = True\n",
    "\n",
    "        return {'stench': stench, 'glitter': glitter, 'breeze': breeze}\n",
    "\n",
    "def main():\n",
    "    size = 4\n",
    "    world = WumpusWorld(size)\n",
    "\n",
    "    print(\"Welcome to the Wumpus World!\")\n",
    "    while True:\n",
    "        percept = world.percept()\n",
    "        print(\"Percept: \", percept)\n",
    "        action = input(\"Enter action (left, right, up, down, grab, shoot, quit): \")\n",
    "\n",
    "        if action == 'quit':\n",
    "            print(\"Game over.\")\n",
    "            break\n",
    "        elif action in ['left', 'right', 'up', 'down']:\n",
    "            world.move_agent(action)\n",
    "        elif action == 'grab' and percept['glitter']:\n",
    "            print(\"Agent grabs the gold!\")\n",
    "            break\n",
    "        elif action == 'shoot' and percept['stench']:\n",
    "            print(\"Agent shoots the wumpus!\")\n",
    "            break\n",
    "        else:\n",
    "            print(\"Invalid action. Try again.\")\n",
    "\n",
    "if __name__ == '__main__':\n",
    "    main()\n",
    "\n"
   ]
  }
 ],
 "metadata": {
  "kernelspec": {
   "display_name": "Python 3 (ipykernel)",
   "language": "python",
   "name": "python3"
  },
  "language_info": {
   "codemirror_mode": {
    "name": "ipython",
    "version": 3
   },
   "file_extension": ".py",
   "mimetype": "text/x-python",
   "name": "python",
   "nbconvert_exporter": "python",
   "pygments_lexer": "ipython3",
   "version": "3.12.0"
  }
 },
 "nbformat": 4,
 "nbformat_minor": 5
}
